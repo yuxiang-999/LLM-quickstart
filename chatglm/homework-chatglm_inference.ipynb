{
 "cells": [
  {
   "cell_type": "markdown",
   "id": "fc5bde60-1899-461d-8083-3ee04ac7c099",
   "metadata": {},
   "source": [
    "# 模型推理 - 使用 QLoRA 微调后的 ChatGLM-6B"
   ]
  },
  {
   "cell_type": "code",
   "execution_count": 1,
   "id": "3292b88c-91f0-48d2-91a5-06b0830c7e70",
   "metadata": {
    "execution": {
     "iopub.execute_input": "2024-02-07T13:00:46.218892Z",
     "iopub.status.busy": "2024-02-07T13:00:46.218337Z",
     "iopub.status.idle": "2024-02-07T13:00:48.081498Z",
     "shell.execute_reply": "2024-02-07T13:00:48.080670Z",
     "shell.execute_reply.started": "2024-02-07T13:00:46.218846Z"
    }
   },
   "outputs": [],
   "source": [
    "import torch\n",
    "from transformers import AutoModel, AutoTokenizer, BitsAndBytesConfig\n",
    "\n",
    "# 模型ID或本地路径\n",
    "model_name_or_path = 'THUDM/chatglm3-6b'"
   ]
  },
  {
   "cell_type": "code",
   "execution_count": 2,
   "id": "9f81454c-24b2-4072-ab05-b25f9b120ae6",
   "metadata": {
    "execution": {
     "iopub.execute_input": "2024-02-07T13:00:48.083250Z",
     "iopub.status.busy": "2024-02-07T13:00:48.082975Z",
     "iopub.status.idle": "2024-02-07T13:01:05.562431Z",
     "shell.execute_reply": "2024-02-07T13:01:05.561528Z",
     "shell.execute_reply.started": "2024-02-07T13:00:48.083230Z"
    }
   },
   "outputs": [
    {
     "data": {
      "application/vnd.jupyter.widget-view+json": {
       "model_id": "8ceb3c9c9c534d5b98742a62639b1457",
       "version_major": 2,
       "version_minor": 0
      },
      "text/plain": [
       "Loading checkpoint shards:   0%|          | 0/7 [00:00<?, ?it/s]"
      ]
     },
     "metadata": {},
     "output_type": "display_data"
    }
   ],
   "source": [
    "_compute_dtype_map = {\n",
    "    'fp32': torch.float32,\n",
    "    'fp16': torch.float16,\n",
    "    'bf16': torch.bfloat16\n",
    "}\n",
    "\n",
    "# QLoRA 量化配置\n",
    "q_config = BitsAndBytesConfig(load_in_4bit=True,\n",
    "                              bnb_4bit_quant_type='nf4',\n",
    "                              bnb_4bit_use_double_quant=True,\n",
    "                              bnb_4bit_compute_dtype=_compute_dtype_map['bf16'])\n",
    "# 加载量化后模型\n",
    "base_model = AutoModel.from_pretrained(model_name_or_path,\n",
    "                                  quantization_config=q_config,\n",
    "                                  device_map='auto',\n",
    "                                  trust_remote_code=True)"
   ]
  },
  {
   "cell_type": "code",
   "execution_count": 3,
   "id": "d488846f-41bb-4fe6-9f09-0f392f3b39e6",
   "metadata": {
    "execution": {
     "iopub.execute_input": "2024-02-07T13:01:05.563691Z",
     "iopub.status.busy": "2024-02-07T13:01:05.563480Z",
     "iopub.status.idle": "2024-02-07T13:01:05.571200Z",
     "shell.execute_reply": "2024-02-07T13:01:05.570689Z",
     "shell.execute_reply.started": "2024-02-07T13:01:05.563671Z"
    }
   },
   "outputs": [
    {
     "data": {
      "text/plain": [
       "ChatGLMForConditionalGeneration(\n",
       "  (transformer): ChatGLMModel(\n",
       "    (embedding): Embedding(\n",
       "      (word_embeddings): Embedding(65024, 4096)\n",
       "    )\n",
       "    (rotary_pos_emb): RotaryEmbedding()\n",
       "    (encoder): GLMTransformer(\n",
       "      (layers): ModuleList(\n",
       "        (0-27): 28 x GLMBlock(\n",
       "          (input_layernorm): RMSNorm()\n",
       "          (self_attention): SelfAttention(\n",
       "            (query_key_value): Linear4bit(in_features=4096, out_features=4608, bias=True)\n",
       "            (core_attention): CoreAttention(\n",
       "              (attention_dropout): Dropout(p=0.0, inplace=False)\n",
       "            )\n",
       "            (dense): Linear4bit(in_features=4096, out_features=4096, bias=False)\n",
       "          )\n",
       "          (post_attention_layernorm): RMSNorm()\n",
       "          (mlp): MLP(\n",
       "            (dense_h_to_4h): Linear4bit(in_features=4096, out_features=27392, bias=False)\n",
       "            (dense_4h_to_h): Linear4bit(in_features=13696, out_features=4096, bias=False)\n",
       "          )\n",
       "        )\n",
       "      )\n",
       "      (final_layernorm): RMSNorm()\n",
       "    )\n",
       "    (output_layer): Linear(in_features=4096, out_features=65024, bias=False)\n",
       "  )\n",
       ")"
      ]
     },
     "execution_count": 3,
     "metadata": {},
     "output_type": "execute_result"
    }
   ],
   "source": [
    "base_model.requires_grad_(False)\n",
    "base_model.eval()"
   ]
  },
  {
   "cell_type": "code",
   "execution_count": 4,
   "id": "7e4270e2-c827-450e-bf27-7cb43a97f8f7",
   "metadata": {
    "execution": {
     "iopub.execute_input": "2024-02-07T13:01:05.573422Z",
     "iopub.status.busy": "2024-02-07T13:01:05.573199Z",
     "iopub.status.idle": "2024-02-07T13:01:06.835696Z",
     "shell.execute_reply": "2024-02-07T13:01:06.834809Z",
     "shell.execute_reply.started": "2024-02-07T13:01:05.573403Z"
    }
   },
   "outputs": [],
   "source": [
    "tokenizer = AutoTokenizer.from_pretrained(model_name_or_path, trust_remote_code=True)"
   ]
  },
  {
   "cell_type": "markdown",
   "id": "63408b60-876e-4eda-b501-90f842cca002",
   "metadata": {},
   "source": [
    "## 使用微调前 ChatGLM3"
   ]
  },
  {
   "cell_type": "code",
   "execution_count": 5,
   "id": "6ef405cf-7d77-41a6-a07b-c6c768ee30cf",
   "metadata": {
    "execution": {
     "iopub.execute_input": "2024-02-07T13:01:06.836859Z",
     "iopub.status.busy": "2024-02-07T13:01:06.836481Z",
     "iopub.status.idle": "2024-02-07T13:01:06.840242Z",
     "shell.execute_reply": "2024-02-07T13:01:06.839615Z",
     "shell.execute_reply.started": "2024-02-07T13:01:06.836838Z"
    }
   },
   "outputs": [],
   "source": [
    "input_text = \"解释下乾卦是什么？\""
   ]
  },
  {
   "cell_type": "code",
   "execution_count": 6,
   "id": "566ed80e-828b-4105-b6e6-49de8905c991",
   "metadata": {
    "execution": {
     "iopub.execute_input": "2024-02-07T13:01:06.841214Z",
     "iopub.status.busy": "2024-02-07T13:01:06.841023Z",
     "iopub.status.idle": "2024-02-07T13:01:20.217666Z",
     "shell.execute_reply": "2024-02-07T13:01:20.216701Z",
     "shell.execute_reply.started": "2024-02-07T13:01:06.841197Z"
    }
   },
   "outputs": [],
   "source": [
    "response, history = base_model.chat(tokenizer, query=input_text)"
   ]
  },
  {
   "cell_type": "code",
   "execution_count": 7,
   "id": "6cee217e-f276-4c2f-94e7-69afb6d541a6",
   "metadata": {
    "execution": {
     "iopub.execute_input": "2024-02-07T13:01:20.219068Z",
     "iopub.status.busy": "2024-02-07T13:01:20.218841Z",
     "iopub.status.idle": "2024-02-07T13:01:20.223752Z",
     "shell.execute_reply": "2024-02-07T13:01:20.223286Z",
     "shell.execute_reply.started": "2024-02-07T13:01:20.219048Z"
    }
   },
   "outputs": [
    {
     "name": "stdout",
     "output_type": "stream",
     "text": [
      "乾卦是八卦之一，也是八宫图说、易经、易学中常用的符号，它是由两个八卦相组合而成：乾为天，表示刚强、积极、行动力、领导等含义。\n",
      "\n",
      "乾卦的含义非常丰富，它既表示一种刚强、积极、行动力、领导等含义，也象征一种最高权威、力量、刚毅、坚定、行动、进展、成功等。同时，乾卦也代表着一种宇宙的力量和自然的法则，它反映了天地间万物运行的规律和变化。\n",
      "\n",
      "在易经中，乾卦的卦辞是“元、亨、利、贞”，这四个字代表了乾卦的基本含义和特质。其中，“元”表示万物之始，“亨”表示通，顺利，“利”表示有利、得利，“贞”表示正、正确。综合起来，乾卦的含义就是：代表宇宙间万物运行的规律和变化，具有刚强、积极、行动力、领导等含义，象征着最高权威、力量、坚定、进展、成功等。\n"
     ]
    }
   ],
   "source": [
    "print(response)"
   ]
  },
  {
   "cell_type": "code",
   "execution_count": null,
   "id": "80f78f9f-5274-44c4-b11c-daab62b15a8b",
   "metadata": {},
   "outputs": [],
   "source": []
  },
  {
   "cell_type": "code",
   "execution_count": 8,
   "id": "bbe1395f-39c2-4759-ae81-90ef3bcfae47",
   "metadata": {
    "execution": {
     "iopub.execute_input": "2024-02-07T13:01:20.224746Z",
     "iopub.status.busy": "2024-02-07T13:01:20.224556Z",
     "iopub.status.idle": "2024-02-07T13:01:29.482397Z",
     "shell.execute_reply": "2024-02-07T13:01:29.481626Z",
     "shell.execute_reply.started": "2024-02-07T13:01:20.224726Z"
    }
   },
   "outputs": [
    {
     "name": "stdout",
     "output_type": "stream",
     "text": [
      "地水师卦是《易经》中的一种卦象，由两个卦相组合而成：地卦和水分开。地卦是八卦之一，代表地球、土地、坚实等含义；水卦则代表水、柔软、润泽等含义。地水师卦的含义丰富，代表了自然、人类和军队之间的关系，象征着团结、众志成城、力量和胜利。\n",
      "\n",
      "在《易经》中，地水师卦的卦辞是“元、亨、利、贞”，与乾卦的含义类似。综合起来，地水师卦的含义就是：代表自然、人类和军队之间的关系，象征着团结、众志成城、力量和胜利。它反映了天地间万物运行的规律和变化，同时也表达了人们应该顺应自然、团结合作、积极向上的精神。\n"
     ]
    }
   ],
   "source": [
    "response, history = base_model.chat(tokenizer, query=\"地水师卦是什么？\", history=history)\n",
    "print(response)"
   ]
  },
  {
   "cell_type": "code",
   "execution_count": null,
   "id": "342b3659-d644-4232-8af1-f092e733bf40",
   "metadata": {},
   "outputs": [],
   "source": []
  },
  {
   "cell_type": "markdown",
   "id": "6d23e720-dee1-4b43-a298-0cbe1d8ad11d",
   "metadata": {},
   "source": [
    "## 微调前后效果对比\n",
    "\n",
    "#### 加载 QLoRA Adapter(Epoch=50, Overfit, handmade-dataset)"
   ]
  },
  {
   "cell_type": "code",
   "execution_count": 9,
   "id": "72e6cc4f-c030-4107-b07a-6ef44f66a4b0",
   "metadata": {
    "execution": {
     "iopub.execute_input": "2024-02-07T13:01:29.483640Z",
     "iopub.status.busy": "2024-02-07T13:01:29.483258Z",
     "iopub.status.idle": "2024-02-07T13:01:29.623953Z",
     "shell.execute_reply": "2024-02-07T13:01:29.623327Z",
     "shell.execute_reply.started": "2024-02-07T13:01:29.483621Z"
    }
   },
   "outputs": [],
   "source": [
    "from peft import PeftModel, PeftConfig\n",
    "\n",
    "epochs = 50\n",
    "peft_model_path = f\"models/{model_name_or_path}-epoch{epochs}\"\n",
    "\n",
    "config = PeftConfig.from_pretrained(peft_model_path)\n",
    "model = PeftModel.from_pretrained(base_model, peft_model_path)"
   ]
  },
  {
   "cell_type": "markdown",
   "id": "9fbf40b4-3109-4668-93dc-1203058c17af",
   "metadata": {},
   "source": [
    "### 使用微调后的 ChatGLM3-6B"
   ]
  },
  {
   "cell_type": "code",
   "execution_count": 10,
   "id": "df0a8067-3433-4c72-b285-134c466e55ac",
   "metadata": {
    "execution": {
     "iopub.execute_input": "2024-02-07T13:01:29.626331Z",
     "iopub.status.busy": "2024-02-07T13:01:29.626110Z",
     "iopub.status.idle": "2024-02-07T13:01:29.630185Z",
     "shell.execute_reply": "2024-02-07T13:01:29.629714Z",
     "shell.execute_reply.started": "2024-02-07T13:01:29.626312Z"
    }
   },
   "outputs": [],
   "source": [
    "def compare_chatglm_results(query):\n",
    "    base_response, base_history = base_model.chat(tokenizer, query)\n",
    "\n",
    "    inputs = tokenizer(query, return_tensors=\"pt\").to(0)\n",
    "    ft_out = model.generate(**inputs, max_new_tokens=512)\n",
    "    ft_response = tokenizer.decode(ft_out[0], skip_special_tokens=True)\n",
    "    \n",
    "    print(f\"问题：{query}\\n\\n原始输出：\\n{base_response}\\n\\n\\nChatGLM3-6B微调后：\\n{ft_response}\")\n",
    "    return base_response, ft_response"
   ]
  },
  {
   "cell_type": "code",
   "execution_count": 11,
   "id": "8d63b187-37be-4721-8959-098d0437c41d",
   "metadata": {
    "execution": {
     "iopub.execute_input": "2024-02-07T13:01:29.631259Z",
     "iopub.status.busy": "2024-02-07T13:01:29.631027Z",
     "iopub.status.idle": "2024-02-07T13:01:50.044608Z",
     "shell.execute_reply": "2024-02-07T13:01:50.043821Z",
     "shell.execute_reply.started": "2024-02-07T13:01:29.631241Z"
    }
   },
   "outputs": [
    {
     "name": "stdout",
     "output_type": "stream",
     "text": [
      "问题：解释下乾卦是什么？\n",
      "\n",
      "原始输出：\n",
      "乾卦是《易经》中的卦名，它是由两个阴爻夹一个阳爻构成，象征着天，表明了天的刚强，如乾果，如雄鸡，如老人。乾卦象征着阳刚之性，表明了积极向上，阳刚之气，它的基本性质是“元”，表示开始，亨通，万事通，象征万事万物的开始和发展。\n",
      "\n",
      "乾卦的卦象是由三个阳爻夹两个阴爻构成，阴爻代表阴柔之性，阳爻代表阳刚之性。在乾卦中，阴爻夹阳爻，表示阴柔之辈begin;阳爻表示阳刚之性。表示强健有力。乾卦告诉我们，只有阳刚之性和阴柔之性的结合，才能使事物发展成功。\n",
      "\n",
      "乾卦的含义是：元、亨、利、贞。元表示开始，亨表示通，利表示通，贞表示正。它告诉人们，只有开始，才能通，只有正，才能利。\n",
      "\n",
      "\n",
      "ChatGLM3-6B微调后：\n",
      "[gMASK]sop 解释下乾卦是什么？乾卦是乾位的卦象，也是六十四卦中的第一卦。乾卦是由两个阳爻夹一个阴爻构成，象征着天，反映了宇宙的运行和自然的法则。乾卦的卦辞是“元亨，利贞”，意味着大吉大利，符合正道。乾卦的主卦是乾卦，六爻都为阳爻，象征着天，反映了宇宙的运行和自然的法则。乾卦的阳爻代表天、云、云气等，阴爻代表地，表示天上的云彩，寓意着云彩的兴盛和地上的润泽。\n"
     ]
    }
   ],
   "source": [
    "base_response, ft_response = compare_chatglm_results(query=\"解释下乾卦是什么？\")"
   ]
  },
  {
   "cell_type": "code",
   "execution_count": 12,
   "id": "be5da80e-d1de-467f-a3bb-508d5a77a46d",
   "metadata": {
    "execution": {
     "iopub.execute_input": "2024-02-07T13:01:50.045922Z",
     "iopub.status.busy": "2024-02-07T13:01:50.045702Z",
     "iopub.status.idle": "2024-02-07T13:02:14.920623Z",
     "shell.execute_reply": "2024-02-07T13:02:14.919793Z",
     "shell.execute_reply.started": "2024-02-07T13:01:50.045902Z"
    }
   },
   "outputs": [
    {
     "name": "stdout",
     "output_type": "stream",
     "text": [
      "问题：地水师卦\n",
      "\n",
      "原始输出：\n",
      "师卦原文：师。贞，丈人吉，无咎。象曰：地中有水，师。君子以容民畜众。白话文解释：师卦象征军队，无灾祸。《象辞》说：下卦为坎（水），上卦为坤（地），如大地容纳江河，君子应容纳众人。《断易天机》解：师卦坤上坎下，象征军众，需德高长者统率以吉无咎。北宋易学家邵雍解：忧劳动众，公正无私排难。得卦者应包容他人，努力排除困难。台湾国学大儒傅佩荣解：时运包容他人，财运有财需珍惜，家宅旧亲联姻吉，身体腹胀调气。传统解卦：异卦（下坎上坤），“师”指军队。坎为水险，坤为地顺，寓兵于农，用兵应顺势，故化凶为吉。\n",
      "\n",
      "\n",
      "ChatGLM3-6B微调后：\n",
      "[gMASK]sop 地水师卦 师卦原文：师。贞，丈人吉，无咎。象曰：地中有水，师。君子以容民畜众。白话文解释：师卦象征军队指挥，无灾祸。《象辞》说：下卦为坎（水），上卦为坤（地），如大地容纳江河，君子应容纳众人。《断易天机》解：师卦坤上坎下，象征军众，需德高长者统率以吉无咎。北宋易学家邵雍解：忧劳动众，公正无私排难。得卦者应包容他人，努力排除困难。台湾国学大儒傅佩荣解：时运包容他人，财运有财需珍惜，家宅旧亲联姻吉，身体腹胀调气。传统解卦：异卦（下坎上坤），“师”指军队。坎为水险，坤为地顺，寓兵于农，用兵应顺势，故化凶为吉。\n"
     ]
    }
   ],
   "source": [
    "base_response, ft_response = compare_chatglm_results(query=\"地水师卦\")"
   ]
  },
  {
   "cell_type": "code",
   "execution_count": 13,
   "id": "04f0eb9a-5075-4588-914a-2538bea801aa",
   "metadata": {
    "execution": {
     "iopub.execute_input": "2024-02-07T13:02:14.921969Z",
     "iopub.status.busy": "2024-02-07T13:02:14.921737Z",
     "iopub.status.idle": "2024-02-07T13:02:54.696425Z",
     "shell.execute_reply": "2024-02-07T13:02:54.695696Z",
     "shell.execute_reply.started": "2024-02-07T13:02:14.921949Z"
    }
   },
   "outputs": [
    {
     "name": "stdout",
     "output_type": "stream",
     "text": [
      "问题：天水讼卦\n",
      "\n",
      "原始输出：\n",
      "讼卦（卦名：讼）是《易经》中卦名。讼卦象征诉讼，反映诉诸法庭的状况。诉讼是矛盾的焦点，是矛盾双方的权益争议，处理诉讼应当公平公正，既不能曲解法律，也不能循私枉法。应该以理性和法度为依据，以和平的方式解决争端。\n",
      "\n",
      "讼卦象征 Litigation（诉讼），黄色象征地（代表刚毅），红色象征血（代表危险），象征险阻，凶险。讼卦既指诉讼诉讼诉讼争端，也指因此事带来危险。\n",
      "\n",
      " translator：\n",
      "\n",
      "天水讼卦\n",
      "\n",
      "天水一卦，刚毅莫测（象征险恶），血盆大德（血的意象）\n",
      "\n",
      "讼 险症 既济\n",
      "\n",
      "初六 初六：既济，舍去，利（刚刚截止，有利于避免危险）\n",
      "\n",
      "解读：\n",
      "诉讼的纠纷刚刚截止，避免危险，有利于舍去。\n",
      "\n",
      "六二 两仪既建，险势已去（既指诉讼争议刚止，又指险势消除）\n",
      "\n",
      "解读：\n",
      "通过协商成功的避免了诉讼，有利于双方，是好的。\n",
      "\n",
      "六三 食湿之诉（诉讼如同饮食之诉，无益于事）\n",
      "\n",
      "解读：\n",
      "诉讼如同饮食之诉，无益于事，没有必要诉讼，避免诉讼。\n",
      "\n",
      "六四 既许既 budget（既定既算，预算）\n",
      "\n",
      "解读：\n",
      "同意并支付，无不利害。指诉讼成功，可获利益。\n",
      "\n",
      "六五  reserved（预留），永无（永久）利（无益）\n",
      "\n",
      "解读：\n",
      "预留不获利，避免诉讼。\n",
      "\n",
      "六六 普遍卦象（普遍之卦）\n",
      "\n",
      "解读：\n",
      "讼卦卦既指诉讼争端，也指因此事带来危险。卦象表示普遍，指在各种情况下都应避免诉讼，以和平方式解决争端。\n",
      "\n",
      "以上内容来源于《易经》中的讼卦卦辞。\n",
      "\n",
      "\n",
      "ChatGLM3-6B微调后：\n",
      "[gMASK]sop 天水讼卦 讼卦原文：讼。有孚，窒惕，中吉，终凶。利见大人，不利涉大川。象曰：天与水违行，讼。君子以做事谋始。白话文解释：讼卦象征虽有利可图但需警惕。事情初吉后凶，利于见贵人，不宜涉水。《象辞》说：上卦为乾（天），下卦为坎（水），天水相隔，事理不合，君子需慎重谋事。《断易天机》解：讼卦乾上坎下，刚遇险，必有争论，多不吉。北宋易学家邵雍解：天高水深，远离不亲，慎谋退守则无凶。得此卦者，身心不安，多争诉，宜修身养性。台湾国学大儒傅佩荣解：时运受阻，财运初谨慎终获利，家宅君子求淑女，身体预防胜于治疗。传统解卦：异卦（下坎上乾），刚健遇险，彼此反对，生争讼，需慎重戒惧。\n"
     ]
    }
   ],
   "source": [
    "base_response, ft_response = compare_chatglm_results(query=\"天水讼卦\")"
   ]
  },
  {
   "cell_type": "markdown",
   "id": "7d48183f-f1dc-4171-b217-e269a5b9c1b9",
   "metadata": {},
   "source": [
    "#### 加载 QLoRA Adapter(Epoch=3, automade-dataset)"
   ]
  },
  {
   "cell_type": "code",
   "execution_count": 14,
   "id": "46a0e881-a4f3-43b2-8a61-0ec543a538a7",
   "metadata": {
    "execution": {
     "iopub.execute_input": "2024-02-07T13:02:54.697842Z",
     "iopub.status.busy": "2024-02-07T13:02:54.697620Z",
     "iopub.status.idle": "2024-02-07T13:02:54.805690Z",
     "shell.execute_reply": "2024-02-07T13:02:54.804962Z",
     "shell.execute_reply.started": "2024-02-07T13:02:54.697822Z"
    }
   },
   "outputs": [],
   "source": [
    "from peft import PeftModel, PeftConfig\n",
    "\n",
    "epochs = 3\n",
    "peft_model_path = f\"models/{model_name_or_path}-epoch{epochs}\"\n",
    "\n",
    "config = PeftConfig.from_pretrained(peft_model_path)\n",
    "model = PeftModel.from_pretrained(base_model, peft_model_path)"
   ]
  },
  {
   "cell_type": "code",
   "execution_count": 15,
   "id": "37d395a9-d34e-4bbf-87e1-54a0d860cb51",
   "metadata": {
    "execution": {
     "iopub.execute_input": "2024-02-07T13:02:54.806741Z",
     "iopub.status.busy": "2024-02-07T13:02:54.806537Z",
     "iopub.status.idle": "2024-02-07T13:02:54.810679Z",
     "shell.execute_reply": "2024-02-07T13:02:54.810216Z",
     "shell.execute_reply.started": "2024-02-07T13:02:54.806722Z"
    }
   },
   "outputs": [],
   "source": [
    "def compare_chatglm_results(query):\n",
    "    base_response, base_history = base_model.chat(tokenizer, query)\n",
    "\n",
    "    inputs = tokenizer(query, return_tensors=\"pt\").to(0)\n",
    "    ft_out = model.generate(**inputs, max_new_tokens=512)\n",
    "    ft_response = tokenizer.decode(ft_out[0], skip_special_tokens=True)\n",
    "    \n",
    "    print(f\"问题：{query}\\n\\n原始输出：\\n{base_response}\\n\\n\\nChatGLM3-6B (Epoch=3, automade-dataset) 微调后：\\n{ft_response}\")\n",
    "    return base_response, ft_response"
   ]
  },
  {
   "cell_type": "code",
   "execution_count": 16,
   "id": "1f53196e-f523-4105-b04a-9ddab349cce1",
   "metadata": {
    "execution": {
     "iopub.execute_input": "2024-02-07T13:02:54.811741Z",
     "iopub.status.busy": "2024-02-07T13:02:54.811511Z",
     "iopub.status.idle": "2024-02-07T13:03:29.158530Z",
     "shell.execute_reply": "2024-02-07T13:03:29.157967Z",
     "shell.execute_reply.started": "2024-02-07T13:02:54.811723Z"
    }
   },
   "outputs": [
    {
     "name": "stdout",
     "output_type": "stream",
     "text": [
      "问题：解释下乾卦是什么？\n",
      "\n",
      "原始输出：\n",
      "乾卦是周易中的一卦，代表天，象征刚健强劲的特性。它由两个卦象叠加而成，上卦是乾卦，下卦是坤卦。在周易中，上卦代表天，下卦代表地，因此乾卦代表天地的力量和特性。\n",
      "\n",
      "乾卦的卦象是天行健，代表刚健强劲的特性。乾卦由六个爻组成，每个爻都有刚健强劲的特点，由阳爻（乾）和阴爻（坤）相互组合而成。在周易中，阳代表阳，阴代表阴，相互之间有着密切的关系。\n",
      "\n",
      "乾卦的哲学内涵是刚健不恒，代表天地的力量和特性。它象征刚健强劲的特性，表明了人类面对困难和挑战时，应具备坚忍不拔、勇往直前的精神。同时，乾卦也提示我们，天地的力量是无穷无尽的，需要我们不断求知、进步，以适应不断变化的客观现实。\n",
      "\n",
      "在周易中，乾卦被认为是最吉利的卦象，预示着卜者将会取得成功。同时，也被认为是一卦之始，代表着开始新的旅程，面对新的挑战。\n",
      "\n",
      "在解卦时，乾卦预示着大吉大利，表示刚健不恒的特性，预示着成功。在 Business的象征中，乾卦表示 business 的力量和刚健强劲的特性，预示着商业活动将会取得成功。\n",
      "\n",
      "在解卦时，乾卦提示刚健不恒，表示情况将会发生改变，需要坚忍不变。在决策时，应该坚持坚忍不变的方针，保留阳刚之志， benefit 最终将到来。\n",
      "\n",
      "总结起来，乾卦代表天地的力量和特性，预示着刚健不恒的状况即将发生改变，提示在面临困难和挑战时，应具备坚忍不拔、勇往直前的精神。\n",
      "\n",
      "\n",
      "ChatGLM3-6B (Epoch=3, automade-dataset) 微调后：\n",
      "[gMASK]sop 解释下乾卦是什么？ 乾卦是周易中的一卦，代表天，由六个阳爻组成，象征着刚健强劲的特性。乾卦代表纯阳之象，具有强盛的力量，象征着世界充满活力。在乾卦中，阳爻处于每一卦位，象征着天神的力量遍佈全身，象征着刚健强劲的特性。在乾卦中，阳爻表示贞正，正位，正足，表明了天神对人类的期望和要求。在乾卦中，人们应该参考天神的特性，努力刚健，积极向前，以达到刚健而强劲的生活。\n",
      "\n",
      "乾卦的哲学内涵是：天行健，君子以自强不息。在乾卦中，天神刚健强劲，积极向前，表示了自强不息的特性。因此，在乾卦中，人们应该以天神为榜样，努力刚健，积极向前，以达到刚健而强劲的生活。\n"
     ]
    }
   ],
   "source": [
    "base_response, ft_response = compare_chatglm_results(query=\"解释下乾卦是什么？\")"
   ]
  },
  {
   "cell_type": "code",
   "execution_count": 17,
   "id": "046306ad-6afe-4ec9-ae55-3df04f61d8f5",
   "metadata": {
    "execution": {
     "iopub.execute_input": "2024-02-07T13:03:29.159459Z",
     "iopub.status.busy": "2024-02-07T13:03:29.159269Z",
     "iopub.status.idle": "2024-02-07T13:04:21.892754Z",
     "shell.execute_reply": "2024-02-07T13:04:21.891905Z",
     "shell.execute_reply.started": "2024-02-07T13:03:29.159442Z"
    }
   },
   "outputs": [
    {
     "name": "stdout",
     "output_type": "stream",
     "text": [
      "问题：地水师卦是什么？\n",
      "\n",
      "原始输出：\n",
      "地水师卦是周易中的一卦，由坎卦（水）和坤卦（地）组合而成，代表地中的水流。地水师卦代表一种状况，说明水流在地下，地平如镜，反映出现象山表象。\n",
      "\n",
      "地水师卦的核心哲学是：流体处于静止状态时，水流在地下，地平如镜，反映出现象山表象。这个卦启示人们，在相处中应该相互谦让，互相包容，如同地水相融，和谐共处。\n",
      "\n",
      "地水师卦的哲学深度：\n",
      "\n",
      "地水师卦所反映的是水在地下流动、地平如镜的景象，流体处于静止状态时，水流在地下，地平如镜，反映出现象山表象。这表示流体处于静止状态时，水流在地下，地平如镜，反映出现象山表象。\n",
      "\n",
      "地水师卦的 interpreted time：\n",
      "\n",
      "地水师卦所启示的是，在相处中应该相互谦让，互相包容，如同地水相融，和谐共处。这需要在地水师卦的基础上，结合具体的情境和状况，进行灵活应用。\n",
      "\n",
      "地水师卦的哲学深度和 interpretd time：\n",
      "\n",
      "地水师卦所反映的是流体处于静止状态时，水流在地下，地平如镜，反映出现象山表象。这表示流体处于静止状态时，水流在地下，地平如镜，反映出现象山表象。地水师卦所启示的是，在相处中应该相互谦让，互相包容，如同地水相融，和谐共处。这需要在地水师卦的基础上，结合具体的情境和状况，进行灵活应用。\n",
      "\n",
      "\n",
      "ChatGLM3-6B (Epoch=3, automade-dataset) 微调后：\n",
      "[gMASK]sop 地水师卦是什么？ 地水师卦是一个由坎卦（水）上承坤卦（地）组成的卦象，代表地上的水，表示地上的水都归到坤卦中来，具有养活万物的作用。在卜问过程中，如果卜者如同地上的水归到坤卦中来，就能得到吉祥，并且能够养活万物。\n",
      "\n",
      "根据《易经》的解卦，地水师卦代表的是泰（太过）卦，表示事情已经过度，需要有所不为，得过且过。泰卦预示着吉祥、顺利，但需要避免过度自信和冒险，保持谦逊和谨慎。\n",
      "\n",
      "泰卦的哲学启示是：事物发展到一定程度就会过度，需要有所不为，得过且过。过于过度自信和冒险，会带来灾难。因此，在遇到吉祥顺利的事情时，要谨慎谦逊，保持冷静，谨慎行事。\n",
      "\n",
      "地水师卦的哲学深度：\n",
      "\n",
      "地水师卦是泰卦的一个变体，表明在泰卦的基础上，要谨慎行事，保持谦逊和谨慎。在吉祥顺利的事情中，要谨慎谦逊，保持冷静，谨慎行事。\n",
      "\n",
      "地水师卦的启示：\n",
      "\n",
      "地上的水都归到坤卦中来，具有养活万物的作用。在卜问过程中，如果卜者如同地上的水归到坤卦中来，就能得到吉祥，并且能够养活万物。\n",
      "\n",
      "根据《易经》的解卦，地水师卦代表的是泰（太过）卦，表示事情已经过度，需要有所不为，得过且过。泰卦预示着吉祥、顺利，但需要避免过度自信和冒险，保持谦逊和谨慎。\n",
      "\n",
      "泰卦的哲学启示是：事物发展到一定程度就会过度，需要有所不为，得过且过。过于过度自信和冒险，会带来灾难。因此，在遇到吉祥顺利的事情时，要谨慎谦逊，保持冷静，谨慎行事。\n",
      "\n",
      "地水师卦的哲学深度：\n",
      "\n",
      "地水师卦是泰卦的一个变体，表明在泰卦的基础上，要谨慎行事，保持谦逊和谨慎。在吉祥顺利的事情中，要谨慎谦逊，保持冷静，谨慎行事。\n",
      "\n",
      "地水师卦的启示：\n",
      "\n",
      "地上的水都归到坤卦中来，具有养活万物的作用。在卜问过程中，如果卜者如同地上的水归到坤卦中来，就能\n"
     ]
    }
   ],
   "source": [
    "base_response, ft_response = compare_chatglm_results(query=\"地水师卦是什么？\")"
   ]
  },
  {
   "cell_type": "code",
   "execution_count": 18,
   "id": "2ab3c310-8cc8-428a-91fa-964b7a58df43",
   "metadata": {
    "execution": {
     "iopub.execute_input": "2024-02-07T13:04:21.894209Z",
     "iopub.status.busy": "2024-02-07T13:04:21.893948Z",
     "iopub.status.idle": "2024-02-07T13:04:57.370526Z",
     "shell.execute_reply": "2024-02-07T13:04:57.369784Z",
     "shell.execute_reply.started": "2024-02-07T13:04:21.894191Z"
    }
   },
   "outputs": [
    {
     "name": "stdout",
     "output_type": "stream",
     "text": [
      "问题：周易中的讼卦是什么\n",
      "\n",
      "原始输出：\n",
      "在周易中，讼卦是一个极具深意的卦象。上卦为乾（天），下卦为坎（水），两者相背而行，代表天与水违行的状况，象征着事理乖舛和争讼之象。讼卦中有利可图，但必须警惕戒惧，事情中间吉利，但最终会有凶险。在卜卦时，利于会见贵族王公，但不利于涉水渡河。\n",
      "\n",
      "讼卦的核心哲学是：开始可能顺利，有所收获，但随后会遇到困难和挫折。因此，务必慎之又慎，不得固执已见，避免介入诉讼纠纷的争执之中。退让而不固执，求得化解，安于正理，可免除意外之灾。陷入争讼，即使获胜，最后还得失去，得不偿失。\n",
      "\n",
      "讼卦的经商指引是：和气生财，吃亏是福，切勿追求不义之财。在商业谈判中要坚持公正、公平、互利的原则，尽量避免发生冲突。\n",
      "\n",
      "对于决策，讼卦提醒我们，争强好胜，不安于现状，为改变命运和超越他人而奋斗。但缺乏持之以恒的毅力，容易得罪他人，带来诉讼之灾。因此，接受教训，引以为戒，可功成名就。\n",
      "\n",
      "讼卦所蕴含的智慧是：在面对争端和异见时，要善于退让和求和，坚守正道，谨慎处事，以避免不必要的冲突和损失。\n",
      "\n",
      "\n",
      "ChatGLM3-6B (Epoch=3, automade-dataset) 微调后：\n",
      "[gMASK]sop 周易中的讼卦是什么卦象\n",
      "\n",
      " 讼卦是周易中的一卦，代表诉讼和纷争。它由两个卦象组成，上卦是乾（天），下卦是坎（水）。上卦的卦辞是“元”，下卦的卦辞是“添”，两者相辅相成，代表天地的运行。讼卦的取义是：天（阳）地（阴），阳阴相济，事物自然运行。\n",
      "\n",
      "讼卦的卦象表示，在诉讼过程中，双方坚持己见，难以达成共识。然而，诉讼过程中双方可能会达成和解，从而使事情得以解决。尽管和解可能存在，但双方仍需警惕再次发生冲突的可能性。\n",
      "\n",
      "讼卦的核心哲学是：尽管双方在诉讼中可能针锋相对，但最终双方都需要对方，寻求和解，从而使事情得以解决。这提示我们在面对冲突和争议时，需要保持冷静和理智，寻求和解，避免冲突升级。\n",
      "\n",
      "讼卦 also represents the legal situation, indicating that parties may be engaged in legal disputes. The卦 indicates that both parties are stubborn and difficult to reach a consensus, but ultimately they will reach an agreement. However, the possibility of future conflicts remains.\n",
      "\n",
      "讼卦提醒我们，在处理冲突和争议时，需要保持冷静和理智，以避免冲突升级。通过寻求和解，可以化解矛盾，使事情得以解决。\n"
     ]
    }
   ],
   "source": [
    "base_response, ft_response = compare_chatglm_results(query=\"周易中的讼卦是什么\")"
   ]
  },
  {
   "cell_type": "code",
   "execution_count": null,
   "id": "9cfffcc5-afa6-45c1-985a-a3eb86a0d1c8",
   "metadata": {},
   "outputs": [],
   "source": []
  },
  {
   "cell_type": "markdown",
   "id": "6bcfc5a2-41ed-405c-a31c-dca4fbb67425",
   "metadata": {},
   "source": [
    "#### 加载 QLoRA Adapter(Epoch=3, automade-dataset(fixed))"
   ]
  },
  {
   "cell_type": "code",
   "execution_count": 24,
   "id": "9c767c67-42aa-459c-a096-e226226c359b",
   "metadata": {
    "execution": {
     "iopub.execute_input": "2024-02-07T13:12:33.887591Z",
     "iopub.status.busy": "2024-02-07T13:12:33.887014Z",
     "iopub.status.idle": "2024-02-07T13:12:34.017915Z",
     "shell.execute_reply": "2024-02-07T13:12:34.017119Z",
     "shell.execute_reply.started": "2024-02-07T13:12:33.887535Z"
    }
   },
   "outputs": [],
   "source": [
    "from peft import PeftModel, PeftConfig\n",
    "\n",
    "epochs = 3\n",
    "timestamp = \"20240129_113522\"\n",
    "peft_model_path = f\"models/{model_name_or_path}-epoch{epochs}-{timestamp}\"\n",
    "\n",
    "config = PeftConfig.from_pretrained(peft_model_path)\n",
    "model = PeftModel.from_pretrained(base_model, peft_model_path)"
   ]
  },
  {
   "cell_type": "code",
   "execution_count": 25,
   "id": "24a5d22b-2c94-4dcf-8135-18d78f98755f",
   "metadata": {
    "execution": {
     "iopub.execute_input": "2024-02-07T13:12:34.442331Z",
     "iopub.status.busy": "2024-02-07T13:12:34.441953Z",
     "iopub.status.idle": "2024-02-07T13:12:34.448308Z",
     "shell.execute_reply": "2024-02-07T13:12:34.447332Z",
     "shell.execute_reply.started": "2024-02-07T13:12:34.442301Z"
    }
   },
   "outputs": [],
   "source": [
    "def compare_chatglm_results(query):\n",
    "    base_response, base_history = base_model.chat(tokenizer, query)\n",
    "\n",
    "    inputs = tokenizer(query, return_tensors=\"pt\").to(0)\n",
    "    ft_out = model.generate(**inputs, max_new_tokens=512)\n",
    "    ft_response = tokenizer.decode(ft_out[0], skip_special_tokens=True)\n",
    "    \n",
    "    print(f\"问题：{query}\\n\\n原始输出：\\n{base_response}\\n\\n\\nChatGLM3-6B(Epoch=3, automade-dataset(fixed))微调后：\\n{ft_response}\")\n",
    "    return base_response, ft_response"
   ]
  },
  {
   "cell_type": "code",
   "execution_count": 26,
   "id": "7db16cd5-0bb5-44ab-b861-d9ca6a4970c2",
   "metadata": {
    "execution": {
     "iopub.execute_input": "2024-02-07T13:12:34.957878Z",
     "iopub.status.busy": "2024-02-07T13:12:34.957570Z",
     "iopub.status.idle": "2024-02-07T13:13:03.494214Z",
     "shell.execute_reply": "2024-02-07T13:13:03.493451Z",
     "shell.execute_reply.started": "2024-02-07T13:12:34.957850Z"
    }
   },
   "outputs": [
    {
     "name": "stdout",
     "output_type": "stream",
     "text": [
      "问题：解释下乾卦是什么？\n",
      "\n",
      "原始输出：\n",
      "{'name': '乾卦是周易中的一卦，由两个乾卦叠加而成，代表天公抖擞，自强不息的意象。在这个卦中，预示着卜者将得到上天的眷顾，事业顺利，生活幸福。同时也预示着保持公正、坚毅、努力和冒险精神，才能获得完全的成功。乾卦的核心哲学是：天公抖擞，自强不息。', 'content': '\\n乾卦的象征是天，它代表阳刚之力量，象征刚健、刚健、刚健。乾卦的核心哲学是天公抖擞，自强不息，寓意着君子应当学习天公的刚健，努力自强，不断奋斗。\\n\\n乾卦的运势如下：\\n\\n- 初九：险阻重重，务必小心谨慎，保持警惕，自强不息。\\n-  nine nine：好运降临，事业顺利，收获丰富，声名远扬。\\n- 九二：嘉运即将到来，形势顺利，进展快速。\\n- 九三：君子应当像天公一样刚健，自我激励，克服困难。\\n- 九四：险阻重重，必须小心谨慎，坚定信念，自强不息。\\n- 九五：运势极佳，事业成功，声誉良好。\\n- 九六：运势依然顺利，事业、事业、事业'}\n",
      "\n",
      "\n",
      "ChatGLM3-6B(Epoch=3, automade-dataset(fixed))微调后：\n",
      "[gMASK]sop 解释下乾卦是什么？ 在周易中，乾卦是六十四卦之首，由六个阳爻组成，象征着天。它所代表的是刚健、健行、刚健不屈的意境。乾卦的核心哲学是：天道刚健，运行不已，君子观此卦象，从而以天为法，自强不息。\n",
      "\n",
      "乾卦象征天，为大通而至正。得此卦者，名利双收，应把握机会，争取成果。然而，切勿过于骄傲自满，而应保持谦逊、冷静和警惕。在事业、经商、求名等方面，乾卦皆暗示着大吉大利，但也警示着必须坚持正道、修养德行，方能永远亨通。\n",
      "\n",
      "在婚恋方面，乾卦提示着阳盛阴衰，但也强调刚柔相济，相互补足，形成美满的结果。在决策方面，则是强调刚健、正直、公允，自强不息的实质，需要修养德行、坚定信念，方能克服困难，消除灾难。\n"
     ]
    }
   ],
   "source": [
    "base_response, ft_response = compare_chatglm_results(query=\"解释下乾卦是什么？\")"
   ]
  },
  {
   "cell_type": "code",
   "execution_count": 27,
   "id": "d5a31554-40f1-4e6e-8240-f207c4a61b42",
   "metadata": {
    "execution": {
     "iopub.execute_input": "2024-02-07T13:13:03.495920Z",
     "iopub.status.busy": "2024-02-07T13:13:03.495709Z",
     "iopub.status.idle": "2024-02-07T13:13:36.843201Z",
     "shell.execute_reply": "2024-02-07T13:13:36.842402Z",
     "shell.execute_reply.started": "2024-02-07T13:13:03.495902Z"
    }
   },
   "outputs": [
    {
     "name": "stdout",
     "output_type": "stream",
     "text": [
      "问题：地水师卦是什么？\n",
      "\n",
      "原始输出：\n",
      "{'name': '卜卦是一种古老的占卜方式，可以帮助人们决策。在卜卦中，占卜者会抛三枚硬币，然后根据硬币的正反面来确定卦象。卦象共有64种，其中乾为天，坤为地，震为雷，巽为风，坎为水，离为火，艮为山，兑为泽。占卜者可以根据卦象选择相应的卦辞，以便得到指导。', 'content': '\\n地水师卦是一个卦象，它由上卦地，下卦水组成。在这个卦象中，地象征稳定，水象征灵活。根据卦象，占卜者可以得出结论：稳定中寻求灵活，灵活中寻求稳定。地水师卦的卦辞如下：\\n\\n震卦：雷卦在上，雷动而激起涟漪。\\n\\n卦象分析：雷代表着刚健，震动，突袭，惊动， tastes否定的声音，君子观此卦象，寓意着行动。震动开始时，君子应当果敢行动。\\n\\n震卦的卦象由震卦上下组成，象征着果敢的行动。震卦中，上卦为震，象征震动，下卦为兑，象征听到远处传来的消息。整个卦象中，震卦占主导地位，显示了震动的意义。\\n\\n卦象分析：君子应当果敢行动，因为震动开始时。君子应当果敢行动，但由于震卦占主导地位，因此，震动的意义在整个卦象中占据主导地位。\\n\\n总结：地水师卦是一个卦象，由地下的稳定性与地上的灵活性组成。占卜者应当在稳定中寻求灵活，灵活中寻求稳定。'}\n",
      "\n",
      "\n",
      "ChatGLM3-6B(Epoch=3, automade-dataset(fixed))微调后：\n",
      "[gMASK]sop 地水师卦是什么？ 师卦是一个由坎卦（水）和坤卦（地）相叠而成的异卦。在周易中，这个卦象代表着军队的力量和军情的总指挥，预示着吉祥无灾。象辞中描述了地水师卦的特性和吉祥之兆。\n",
      "\n",
      "坎卦代表着坎卦（水）的象征，代表着灵活、柔顺、适应变化、团结一致、勇敢顽强、灵活应敌的意思。坤卦代表着坤卦（地）的象征，代表着安顺、温和、柔顺、安泰、团结、忠诚、坚韧不拔的意思。\n",
      "\n",
      "师卦的核心哲学是：灵活变通，团结一致，勇敢顽强的精神，是战胜困难的法宝。在事业、经商、求名、婚恋等方面的决策中，都需要借助卦象来指导，结合个人喜好和实际情况，积极向前。\n",
      "\n",
      "总体来说，师卦是一个充满吉祥的卦象，代表着勇敢、智慧和团结，预示着成功和成就。\n"
     ]
    }
   ],
   "source": [
    "base_response, ft_response = compare_chatglm_results(query=\"地水师卦是什么？\")"
   ]
  },
  {
   "cell_type": "code",
   "execution_count": 28,
   "id": "7aa074bd-c819-4533-a10f-f3184dc9549a",
   "metadata": {
    "execution": {
     "iopub.execute_input": "2024-02-07T13:13:36.844548Z",
     "iopub.status.busy": "2024-02-07T13:13:36.844148Z",
     "iopub.status.idle": "2024-02-07T13:13:59.311750Z",
     "shell.execute_reply": "2024-02-07T13:13:59.311020Z",
     "shell.execute_reply.started": "2024-02-07T13:13:36.844527Z"
    }
   },
   "outputs": [
    {
     "name": "stdout",
     "output_type": "stream",
     "text": [
      "问题：周易中的讼卦是什么\n",
      "\n",
      "原始输出：\n",
      "在周易中，讼卦是一个充满警示的卦象。它由上卦乾（天）和下卦坎（水）组成，代表着天与水背道而驰，形成争讼的局面。虽然事情开始时有利可图，但必须警惕戒惧，因为中间虽然吉利，但最终会带来凶险。对于涉及大川，涉水渡河的行动不利。因此，君子观此卦象，应当慎之又慎，杜绝争讼之事，并在谋事之初谨慎行事。讼卦的核心哲学是要避免争讼，退而让人，求得化解，安于正理，方可避免意外之灾。在事业上，务必避免介入诉讼纠纷的争执之中，与其这样，不如退而让人。即使最终获胜，也难免得失不均。经商方面，要坚持公正、公平、互利的原则，避免冲突，这样会有好结果。而对于求名、婚恋和决策，也都需要慎重行事，避免盲目追求，退让让人，可助事业、婚姻和决策的发展。\n",
      "\n",
      "\n",
      "ChatGLM3-6B(Epoch=3, automade-dataset(fixed))微调后：\n",
      "[gMASK]sop 周易中的讼卦是什么样子 讼卦是一个充满警示的卦象，它由上卦乾（天）和下卦坎（水）组成。在周易中，乾卦代表天，代表着刚强、刚硬、刚毅、刚直，坎卦则代表水，象征着柔顺、退让、谦逊、含蓄。因此，的上卦乾，下卦坎，形成天与水相违的卦象。虽然初始看起来吉祥，但必须警惕，因为中间he，最后 unfavorable。如果能够在行动中保持警惕和谨慎，那么可以带来吉利。然而，必须警惕吉利转瞬即逝，必须谨慎行事以应对各种情况。更多关于周易的占卜和解读，请咨询专业命理师。\n"
     ]
    }
   ],
   "source": [
    "base_response, ft_response = compare_chatglm_results(query=\"周易中的讼卦是什么\")"
   ]
  },
  {
   "cell_type": "code",
   "execution_count": null,
   "id": "abae8a8e-00bb-4801-931a-c942206f0e2a",
   "metadata": {},
   "outputs": [],
   "source": []
  }
 ],
 "metadata": {
  "kernelspec": {
   "display_name": "Python 3 (ipykernel)",
   "language": "python",
   "name": "python3"
  },
  "language_info": {
   "codemirror_mode": {
    "name": "ipython",
    "version": 3
   },
   "file_extension": ".py",
   "mimetype": "text/x-python",
   "name": "python",
   "nbconvert_exporter": "python",
   "pygments_lexer": "ipython3",
   "version": "3.11.7"
  }
 },
 "nbformat": 4,
 "nbformat_minor": 5
}
